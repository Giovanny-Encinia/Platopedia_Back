{
 "cells": [
  {
   "cell_type": "code",
   "execution_count": 149,
   "metadata": {},
   "outputs": [],
   "source": [
    "import pandas as pd\n",
    "import numpy as np"
   ]
  },
  {
   "cell_type": "markdown",
   "metadata": {},
   "source": [
    "First, I check the structure of the \"xls\" file, and I could determine which sheets I can to use for the analysis."
   ]
  },
  {
   "cell_type": "code",
   "execution_count": 150,
   "metadata": {},
   "outputs": [],
   "source": [
    "xls = pd.ExcelFile(\"FoodCompAfricaWest.xlsx\")\n",
    "food = pd.read_excel(xls, 2)"
   ]
  },
  {
   "cell_type": "markdown",
   "metadata": {},
   "source": [
    "I eliminate the \"\\n\" in the columns' name\n"
   ]
  },
  {
   "cell_type": "code",
   "execution_count": 151,
   "metadata": {},
   "outputs": [],
   "source": [
    "columns = food.columns.to_list()\n",
    "columns = [element.replace('\\n', ' ').upper() for element in columns]\n",
    "food.columns = columns"
   ]
  },
  {
   "cell_type": "markdown",
   "metadata": {},
   "source": [
    "I will eliminate the rows with a number of N/A values greater than 44 also I will eliminate the first two rows."
   ]
  },
  {
   "cell_type": "code",
   "execution_count": 152,
   "metadata": {},
   "outputs": [],
   "source": [
    "condition = food.isna().sum(axis=1) > 44\n",
    "food.drop(food[condition].index, inplace=True)\n",
    "food.drop(index=[0,1], inplace=True)"
   ]
  },
  {
   "cell_type": "markdown",
   "metadata": {},
   "source": [
    "In own dataframe in the last column exist diferent types of data so I handle the data and I eliminated the \"[]\", and I maked new data for a new column that will especify the method by wich the creators of the table found the phytatic acid."
   ]
  },
  {
   "cell_type": "code",
   "execution_count": 153,
   "metadata": {},
   "outputs": [],
   "source": [
    "columns = food.columns\n",
    "columns = columns[5:]\n",
    "\n",
    "for col in columns:\n",
    "    lista = food[col].to_list() # Data of the last column of Food df\n",
    "    method = [] # New column in own dataframe\n",
    "    copy_lista = lista[:]\n",
    "    i = 0\n",
    "\n",
    "    for num in copy_lista:\n",
    "\n",
    "        try:\n",
    "            if num.find(\"[\") != -1:\n",
    "                method.append(1)\n",
    "                num = num.replace(\"[\", \"\")\n",
    "                num = num.replace(\"]\", \"\")\n",
    "                lista[i] = num\n",
    "                ward = 1\n",
    "            else:\n",
    "                method.append(0)\n",
    "\n",
    "        except AttributeError:\n",
    "            method.append(0)\n",
    "\n",
    "        i += 1\n",
    "    \n",
    "    if ward == 1:\n",
    "        food[col] = lista\n",
    "        food[col + ' METHOD'] = method"
   ]
  },
  {
   "cell_type": "markdown",
   "metadata": {},
   "source": [
    "I change the data type of each column"
   ]
  },
  {
   "cell_type": "code",
   "execution_count": null,
   "metadata": {},
   "outputs": [],
   "source": [
    "for col in columns:\n",
    "    food[col] = pd.to_numeric(food[col], errors=\"coerce\")"
   ]
  },
  {
   "cell_type": "markdown",
   "metadata": {},
   "source": [
    "Now, I will find the food group's names"
   ]
  },
  {
   "cell_type": "code",
   "execution_count": 154,
   "metadata": {},
   "outputs": [],
   "source": [
    "condition_sep = food.isna().sum(axis=1) > 43\n",
    "group_index = food[condition_sep].index.to_list()"
   ]
  },
  {
   "cell_type": "markdown",
   "metadata": {},
   "source": [
    "I will create the diferents dataframe of the groups of food\n",
    "\n",
    "The name of the list of dataframe groups is group_food"
   ]
  },
  {
   "cell_type": "code",
   "execution_count": 155,
   "metadata": {},
   "outputs": [],
   "source": [
    "group_food = [] # Save the data\n",
    "copy = group_index[:] # Ward for handling data\n",
    "\n",
    "try:\n",
    "    \n",
    "    for index in group_index:\n",
    "        iterador = iter(copy)\n",
    "        copy.pop(0) # eliminate the first element of copy in each iteration\n",
    "        next_index = next(iterador)\n",
    "        begin = index\n",
    "        end = next_index - 2\n",
    "        # I use 2 because previously I erased the row\n",
    "        group_food.append(food.loc[begin: end])\n",
    "        \n",
    "except StopIteration:\n",
    "    begin = group_index[-1]\n",
    "    end = food.iloc[-1].name\n",
    "    group_food.append(food.loc[begin: end])"
   ]
  },
  {
   "cell_type": "markdown",
   "metadata": {},
   "source": [
    "Se crea una lista en la cual se encuientran los distintos grupos de alimentos ( frutas, vegetales, raices, etc) abajo hay un ejemplo"
   ]
  },
  {
   "cell_type": "code",
   "execution_count": 180,
   "metadata": {},
   "outputs": [],
   "source": [
    "# group_food[1].index.name  = food.loc[begin][0]"
   ]
  },
  {
   "cell_type": "code",
   "execution_count": 182,
   "metadata": {},
   "outputs": [],
   "source": [
    "# group_food[1]"
   ]
  },
  {
   "cell_type": "code",
   "execution_count": null,
   "metadata": {},
   "outputs": [],
   "source": []
  }
 ],
 "metadata": {
  "kernelspec": {
   "display_name": "Python 3",
   "language": "python",
   "name": "python3"
  },
  "language_info": {
   "codemirror_mode": {
    "name": "ipython",
    "version": 3
   },
   "file_extension": ".py",
   "mimetype": "text/x-python",
   "name": "python",
   "nbconvert_exporter": "python",
   "pygments_lexer": "ipython3",
   "version": "3.7.6"
  },
  "toc": {
   "base_numbering": 1,
   "nav_menu": {},
   "number_sections": true,
   "sideBar": true,
   "skip_h1_title": false,
   "title_cell": "Table of Contents",
   "title_sidebar": "Contents",
   "toc_cell": false,
   "toc_position": {},
   "toc_section_display": true,
   "toc_window_display": false
  },
  "varInspector": {
   "cols": {
    "lenName": 16,
    "lenType": 16,
    "lenVar": 40
   },
   "kernels_config": {
    "python": {
     "delete_cmd_postfix": "",
     "delete_cmd_prefix": "del ",
     "library": "var_list.py",
     "varRefreshCmd": "print(var_dic_list())"
    },
    "r": {
     "delete_cmd_postfix": ") ",
     "delete_cmd_prefix": "rm(",
     "library": "var_list.r",
     "varRefreshCmd": "cat(var_dic_list()) "
    }
   },
   "types_to_exclude": [
    "module",
    "function",
    "builtin_function_or_method",
    "instance",
    "_Feature"
   ],
   "window_display": false
  }
 },
 "nbformat": 4,
 "nbformat_minor": 4
}
